{
 "cells": [
  {
   "cell_type": "code",
   "execution_count": null,
   "id": "65f46c67-8709-45cd-9de5-56e56111b669",
   "metadata": {},
   "outputs": [],
   "source": []
  },
  {
   "cell_type": "raw",
   "id": "923adba8-25a8-4202-8b8a-ca603638dfae",
   "metadata": {},
   "source": [
    "Data Analytics I :\n",
    "1.Create a Linear Regression Model using Python/R to predict home prices using Boston Housing\n",
    "Dataset (https://www.kaggle.com/c/boston-housing). The Boston Housing dataset contains\n",
    "information about various houses in Boston through different parameters. There are 506 samples\n",
    "and 14 feature variables in this dataset.\n",
    "The objective is to predict the value of prices of the house using the given features."
   ]
  },
  {
   "cell_type": "code",
   "execution_count": 1,
   "id": "cbb9b3a7-b46a-4eaa-8a17-e1f7b4fd8521",
   "metadata": {},
   "outputs": [],
   "source": [
    "import pandas as pd\n",
    "import numpy as np\n",
    "import matplotlib.pyplot as plt\n",
    "from sklearn.model_selection import train_test_split\n",
    "from sklearn.linear_model import LinearRegression\n",
    "from sklearn.preprocessing import StandardScaler\n",
    "from sklearn.metrics import mean_squared_error\n",
    "from sklearn.metrics import mean_absolute_error\n",
    "import seaborn as sns\n",
    "import warnings\n",
    "warnings.filterwarnings(\"ignore\")\n",
    "%matplotlib inline"
   ]
  },
  {
   "cell_type": "code",
   "execution_count": 2,
   "id": "7afbfdcd-26be-4347-97eb-69a40f232a99",
   "metadata": {},
   "outputs": [
    {
     "ename": "_IncompleteInputError",
     "evalue": "incomplete input (1048309798.py, line 3)",
     "output_type": "error",
     "traceback": [
      "\u001b[1;36m  Cell \u001b[1;32mIn[2], line 3\u001b[1;36m\u001b[0m\n\u001b[1;33m    df.head(\u001b[0m\n\u001b[1;37m            ^\u001b[0m\n\u001b[1;31m_IncompleteInputError\u001b[0m\u001b[1;31m:\u001b[0m incomplete input\n"
     ]
    }
   ],
   "source": [
    "df = pd.read_csv(\"BostonHousing.csv\")\n",
    "df = df.dropna()\n",
    "df.head("
   ]
  },
  {
   "cell_type": "code",
   "execution_count": null,
   "id": "10ca57ff-4a10-43b9-92b2-66261d3013e2",
   "metadata": {},
   "outputs": [],
   "source": [
    "df.columns"
   ]
  },
  {
   "cell_type": "code",
   "execution_count": null,
   "id": "543e5411-a3d3-46d4-b3c6-478a6b72e587",
   "metadata": {},
   "outputs": [],
   "source": [
    "x = df[['crim', 'zn', 'indus', 'chas', 'nox', 'rm', 'age', 'dis', 'rad', 'tax',\n",
    "       'ptratio', 'b', 'lstat']]\n",
    "x.head()"
   ]
  },
  {
   "cell_type": "code",
   "execution_count": null,
   "id": "0bf45b17-2376-4e56-b6db-0e6bcaa3043f",
   "metadata": {},
   "outputs": [],
   "source": [
    "y = df[['medv']]\n",
    "y.head()"
   ]
  },
  {
   "cell_type": "code",
   "execution_count": null,
   "id": "b11bfd6e-0221-414a-b994-1aef604fdf50",
   "metadata": {},
   "outputs": [],
   "source": [
    "x.shape,y.shape"
   ]
  },
  {
   "cell_type": "markdown",
   "id": "95656c64-0f4f-4cf3-a0e1-2dafa02809fe",
   "metadata": {},
   "source": [
    "*************************    Basic stats ******************************************"
   ]
  },
  {
   "cell_type": "code",
   "execution_count": null,
   "id": "0b06d348-e565-4f4a-b05b-2e2153f8a665",
   "metadata": {},
   "outputs": [],
   "source": [
    "x.info()"
   ]
  },
  {
   "cell_type": "code",
   "execution_count": null,
   "id": "eae07b58-96ae-44ee-94ce-1893cf424e31",
   "metadata": {},
   "outputs": [],
   "source": [
    "x.describe()"
   ]
  },
  {
   "cell_type": "code",
   "execution_count": null,
   "id": "f2573978-7cca-443a-b8c9-376175a9d83c",
   "metadata": {},
   "outputs": [],
   "source": [
    "y.info()"
   ]
  },
  {
   "cell_type": "code",
   "execution_count": null,
   "id": "0f0191d2-a10a-4719-be93-e1a2263de38b",
   "metadata": {},
   "outputs": [],
   "source": [
    "y.describe()"
   ]
  },
  {
   "cell_type": "code",
   "execution_count": null,
   "id": "ba15c1b2-a959-4a3a-9fa0-6ff81ebd7fee",
   "metadata": {},
   "outputs": [],
   "source": [
    "x.isnull().sum()"
   ]
  },
  {
   "cell_type": "code",
   "execution_count": null,
   "id": "ae3f66d3-ade8-45b4-9957-e4a5608f62d2",
   "metadata": {},
   "outputs": [],
   "source": [
    "y.isnull().sum()"
   ]
  },
  {
   "cell_type": "code",
   "execution_count": null,
   "id": "60147c90-d4ac-4e36-baca-626133fcaf92",
   "metadata": {},
   "outputs": [],
   "source": [
    "df = x \n",
    "df[\"target\"] = y\n",
    "df.head()"
   ]
  },
  {
   "cell_type": "code",
   "execution_count": null,
   "id": "aeb16914-f2e6-461e-93b6-2046711509c1",
   "metadata": {},
   "outputs": [],
   "source": [
    "plt.figure(figsize=(15,10))\n",
    "sns.heatmap(df.corr(), annot=True)\n",
    "plt.show()"
   ]
  },
  {
   "cell_type": "markdown",
   "id": "50a176fb-29db-4459-b9f3-354e757eb621",
   "metadata": {},
   "source": [
    "*****   Considering only 'RM' and 'LSTAT' by considering correlation and multi-collinearity of other features  *****"
   ]
  },
  {
   "cell_type": "code",
   "execution_count": null,
   "id": "1f144109-8947-46c3-a215-76581fc23835",
   "metadata": {},
   "outputs": [],
   "source": [
    "df = df[['rm', 'lstat', 'target']]"
   ]
  },
  {
   "cell_type": "code",
   "execution_count": null,
   "id": "1052452c-ab8a-4191-86e7-b785ff725f59",
   "metadata": {},
   "outputs": [],
   "source": [
    "sns.pairplot(df)\n",
    "plt.show()"
   ]
  },
  {
   "cell_type": "code",
   "execution_count": null,
   "id": "e5f1f6ca-94d9-4faa-9062-971d54d98c01",
   "metadata": {},
   "outputs": [],
   "source": [
    "x = df[['rm', 'lstat']]\n",
    "y = df['target']"
   ]
  },
  {
   "cell_type": "markdown",
   "id": "e1806fee-3c79-45fa-8001-8d3763da3c1e",
   "metadata": {},
   "source": [
    "*****************  Scale the data  ***************************"
   ]
  },
  {
   "cell_type": "code",
   "execution_count": null,
   "id": "5a246643-48e3-43ec-9b8a-e7fc31b10917",
   "metadata": {},
   "outputs": [],
   "source": [
    "scaler = StandardScaler()"
   ]
  },
  {
   "cell_type": "code",
   "execution_count": null,
   "id": "d43dfee8-eb5d-406c-ac6b-71a523d1ef65",
   "metadata": {},
   "outputs": [],
   "source": [
    "x = scaler.fit_transform(x)"
   ]
  },
  {
   "cell_type": "markdown",
   "id": "2723023d-58ed-4b86-91b6-9c60c7c3ed5d",
   "metadata": {},
   "source": [
    "*********************   Split the data    ************************"
   ]
  },
  {
   "cell_type": "code",
   "execution_count": null,
   "id": "4c69ddee-e755-47ec-8b59-028cca11176d",
   "metadata": {},
   "outputs": [],
   "source": [
    "x_train, x_test, y_train, y_test = train_test_split(x, y, test_size=0.3, shuffle=True)"
   ]
  },
  {
   "cell_type": "code",
   "execution_count": null,
   "id": "dfe3186e-c8ca-420b-a77a-e8cc5b6d7917",
   "metadata": {},
   "outputs": [],
   "source": [
    "x_train.shape, x_test.shape, y_train.shape, y_test.shape"
   ]
  },
  {
   "cell_type": "markdown",
   "id": "12625b6a-7734-487f-b2a9-781a8e4cabe5",
   "metadata": {},
   "source": [
    "******************* Linear Regression Modelling¶  *******************"
   ]
  },
  {
   "cell_type": "code",
   "execution_count": null,
   "id": "7d53ac51-f19b-4b48-b266-b08099cea8ad",
   "metadata": {},
   "outputs": [],
   "source": [
    "model = LinearRegression(n_jobs=-1)"
   ]
  },
  {
   "cell_type": "code",
   "execution_count": null,
   "id": "0d76cde5-55c4-4d62-b9d1-458287933b7f",
   "metadata": {},
   "outputs": [],
   "source": [
    "model.fit(x_train, y_train)"
   ]
  },
  {
   "cell_type": "markdown",
   "id": "f238ee38-f80b-4fdb-82d6-6b1c49365f2c",
   "metadata": {},
   "source": [
    "Linear Regression:\n",
    "\n",
    "Linear Regression is one of the most fundamental and widely known Machine Learning Algorithm.\n",
    "A Linear Regression model predicts the dependent variable using a regression line based on the independent variables.\n",
    "The equation of the Linear Regression is:\n",
    "\n",
    "Y = a*X + C + e\n",
    "\n",
    "Where, C is the intercept,\n",
    "m is the slope of the line\n",
    "e is the error term\n",
    "The equation above is used to predict the value of the targer variable based on the given predictor variable(s)."
   ]
  },
  {
   "cell_type": "markdown",
   "id": "88c2798a-0a41-4e5c-b4d7-b679089a8179",
   "metadata": {},
   "source": [
    "**********************************  Make predictions  ***********************"
   ]
  },
  {
   "cell_type": "code",
   "execution_count": null,
   "id": "9eff74dc-0fde-4b68-814f-a97e3bcf3dbf",
   "metadata": {},
   "outputs": [],
   "source": [
    "y_pred = model.predict(x_test)"
   ]
  },
  {
   "cell_type": "code",
   "execution_count": null,
   "id": "1c1f5dd1-c7a2-49a8-8514-8bd77d4b9eb5",
   "metadata": {},
   "outputs": [],
   "source": [
    "y_pred"
   ]
  },
  {
   "cell_type": "code",
   "execution_count": null,
   "id": "7a8671e3-c4ec-49c0-9527-a68204859227",
   "metadata": {},
   "outputs": [],
   "source": [
    "mean_squared_error(y_test, y_pred)"
   ]
  },
  {
   "cell_type": "code",
   "execution_count": null,
   "id": "e786cbd3-e546-4376-b9dd-8d89a2453923",
   "metadata": {},
   "outputs": [],
   "source": [
    "mean_absolute_error(y_test, y_pred)"
   ]
  },
  {
   "cell_type": "code",
   "execution_count": null,
   "id": "785dbb95-051b-46ae-891b-6d25ce215c14",
   "metadata": {},
   "outputs": [],
   "source": [
    "plt.scatter(y_test, y_pred)\n",
    "plt.xlabel('Y Test')\n",
    "plt.ylabel('Predicted Y')\n",
    "plt.show()"
   ]
  },
  {
   "cell_type": "code",
   "execution_count": null,
   "id": "ac729e60-2fe9-4127-882f-487a3c0ac80a",
   "metadata": {},
   "outputs": [],
   "source": [
    "df1 = pd.DataFrame({'Actual':y_test, 'Predicted':y_pred, 'Variance':y_test-y_pred})\n",
    "df1.head()"
   ]
  },
  {
   "cell_type": "code",
   "execution_count": null,
   "id": "f22073b9-eaff-4ae9-95b3-d385c0ca401e",
   "metadata": {},
   "outputs": [],
   "source": [
    "df.head(15)"
   ]
  },
  {
   "cell_type": "code",
   "execution_count": null,
   "id": "697a63dc-f750-4115-b041-c63b7e592225",
   "metadata": {},
   "outputs": [],
   "source": []
  },
  {
   "cell_type": "code",
   "execution_count": null,
   "id": "531dc8c2-bce5-4008-95ad-934f560729b4",
   "metadata": {},
   "outputs": [],
   "source": []
  },
  {
   "cell_type": "code",
   "execution_count": null,
   "id": "cf3c2f35-6d1c-45c1-98c7-0d23d1c3e604",
   "metadata": {},
   "outputs": [],
   "source": []
  }
 ],
 "metadata": {
  "kernelspec": {
   "display_name": "Python 3 (ipykernel)",
   "language": "python",
   "name": "python3"
  },
  "language_info": {
   "codemirror_mode": {
    "name": "ipython",
    "version": 3
   },
   "file_extension": ".py",
   "mimetype": "text/x-python",
   "name": "python",
   "nbconvert_exporter": "python",
   "pygments_lexer": "ipython3",
   "version": "3.13.1"
  }
 },
 "nbformat": 4,
 "nbformat_minor": 5
}
