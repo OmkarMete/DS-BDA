{
 "cells": [
  {
   "cell_type": "code",
   "execution_count": null,
   "id": "c88f640b-62ce-4480-b688-5d3915e34127",
   "metadata": {},
   "outputs": [],
   "source": [
    " import\tpandas\tas\tpd\n",
    " import\tnumpy\tas\tnp\n",
    " import\tmatplotlib.pyplot\tas\tplt\n",
    " import\tseaborn\tas\tsns\n",
    " import\tplotly.express\tas\tpx\n",
    " from\tsklearn.datasets\timport\tload_iris\n",
    " import\twarnings\n",
    " warnings.filterwarnings(\"ignore\")"
   ]
  },
  {
   "cell_type": "code",
   "execution_count": null,
   "id": "4c16a6dd-eac2-4759-82af-69cb5f4dbe85",
   "metadata": {},
   "outputs": [],
   "source": [
    "data\t=\tload_iris()"
   ]
  },
  {
   "cell_type": "code",
   "execution_count": null,
   "id": "1fb53346-3de8-48a8-afbb-84530e71963c",
   "metadata": {},
   "outputs": [],
   "source": [
    " print(\"Features\tand\ttheir\ttypes:\")\n",
    " print(data.keys())"
   ]
  },
  {
   "cell_type": "code",
   "execution_count": null,
   "id": "77de9870-3e49-4041-91e1-20d194d0cd48",
   "metadata": {},
   "outputs": [],
   "source": [
    "data.feature_names"
   ]
  },
  {
   "cell_type": "code",
   "execution_count": null,
   "id": "dd2ed5a2-aee2-4d00-8dfa-8aab5748f4a5",
   "metadata": {},
   "outputs": [],
   "source": [
    " df\t=\tpd.DataFrame()\n",
    " df[data['feature_names']]\t=\tdata['data']\n",
    " df['label']\t=\tdata['target']\n",
    " df"
   ]
  },
  {
   "cell_type": "code",
   "execution_count": null,
   "id": "5dc604d3-8316-49da-b339-efdb9395509d",
   "metadata": {},
   "outputs": [],
   "source": [
    "df.head()"
   ]
  },
  {
   "cell_type": "code",
   "execution_count": null,
   "id": "fe5c2da2-4778-4be7-bb02-eae628b304b8",
   "metadata": {},
   "outputs": [],
   "source": [
    "df.info()"
   ]
  },
  {
   "cell_type": "code",
   "execution_count": null,
   "id": "17b315af-3700-48d6-94da-4bc7dca2f9bc",
   "metadata": {},
   "outputs": [],
   "source": [
    "df.describe()"
   ]
  },
  {
   "cell_type": "markdown",
   "id": "d5c6fbe9-f263-4faf-885e-90ec41ea04c4",
   "metadata": {},
   "source": [
    "# Visualization"
   ]
  },
  {
   "cell_type": "code",
   "execution_count": null,
   "id": "f2a19f5e-5d71-4f4c-95d4-b07d9f6c6654",
   "metadata": {},
   "outputs": [],
   "source": [
    "sns.heatmap(df.corr(),\tannot=True)\n",
    "plt.show()"
   ]
  },
  {
   "cell_type": "code",
   "execution_count": null,
   "id": "23d1d879-c223-4eae-9fb4-37f98504f889",
   "metadata": {},
   "outputs": [],
   "source": [
    "df.rename(columns={\"sepal\\tlength\\t(cm)\": \"sepal length (cm)\"}, inplace=True)\n",
    "sns.histplot(df[\"sepal length (cm)\"], kde=True)\n",
    "plt.show()\n"
   ]
  },
  {
   "cell_type": "code",
   "execution_count": null,
   "id": "6d04e7ca-2cd6-4ca6-aaf2-43740b3ca8e1",
   "metadata": {},
   "outputs": [],
   "source": [
    "df.rename(columns={\"sepal\\tlength\\t(cm)\": \"sepal length (cm)\"}, inplace=True)\n",
    "sns.histplot(df[\"sepal length (cm)\"], kde=True)\n",
    "plt.show()\n"
   ]
  },
  {
   "cell_type": "code",
   "execution_count": null,
   "id": "427f4390-d21e-46db-9bee-f210f8cba7ad",
   "metadata": {},
   "outputs": [],
   "source": [
    "df.rename(columns={\"sepal\\twidth\\t(cm)\": \"sepal width (cm)\"}, inplace=True)\n",
    "sns.histplot(df[\"sepal width (cm)\"], kde=True)\n",
    "plt.show()\n"
   ]
  },
  {
   "cell_type": "code",
   "execution_count": null,
   "id": "3140b38b-f3c6-49f9-a55d-936e375fa3c9",
   "metadata": {},
   "outputs": [],
   "source": [
    "df.rename(columns={\"petal\\tlength\\t(cm)\": \"petal length (cm)\"}, inplace=True)\n",
    "sns.histplot(df[\"petal length (cm)\"], kde=True)\n",
    "plt.show()\n"
   ]
  },
  {
   "cell_type": "code",
   "execution_count": null,
   "id": "4284e72c-6e4d-428c-8bae-d2b98f3b8454",
   "metadata": {},
   "outputs": [],
   "source": [
    "df.rename(columns={\"petal\\twidth\\t(cm)\": \"petal width (cm)\"}, inplace=True)\n",
    "sns.histplot(df[\"petal width (cm)\"], kde=True)\n",
    "plt.show()\n"
   ]
  },
  {
   "cell_type": "code",
   "execution_count": null,
   "id": "5fe3a1a9-5e2e-428a-afbe-ba26399d3124",
   "metadata": {},
   "outputs": [],
   "source": [
    "df.rename(columns={\"sepal\\tlength\\t(cm)\": \"sepal length (cm)\"}, inplace=True)\n",
    "sns.boxplot(x=df['label'], y=df[\"sepal length (cm)\"])\n",
    "plt.title(\"Sepal Length by Label\")\n",
    "plt.show()\n",
    "\n"
   ]
  },
  {
   "cell_type": "code",
   "execution_count": null,
   "id": "3dfbbda5-d448-4a0a-87d1-7e7ac5e43655",
   "metadata": {},
   "outputs": [],
   "source": [
    "df.rename(columns={\"sepal\\twidth\\t(cm)\": \"sepal width (cm)\"}, inplace=True)\n",
    "sns.boxplot(x=df['label'], y=df[\"sepal width (cm)\"])\n",
    "plt.title(\"Sepal Width by Label\")\n",
    "plt.show()\n"
   ]
  },
  {
   "cell_type": "code",
   "execution_count": null,
   "id": "c178ff76-d240-4edb-9af6-ef3e5dcc36e4",
   "metadata": {},
   "outputs": [],
   "source": [
    "df.rename(columns={\"petal\\twidth\\t(cm)\": \"petal width (cm)\"}, inplace=True)\n",
    "sns.boxplot(x=df['label'], y=df[\"petal width (cm)\"])\n",
    "plt.title(\"Petal Width by Label\")\n",
    "plt.show()\n"
   ]
  },
  {
   "cell_type": "code",
   "execution_count": null,
   "id": "41804e7b-cbbe-4094-b861-376e8d0f0bb9",
   "metadata": {},
   "outputs": [],
   "source": []
  }
 ],
 "metadata": {
  "kernelspec": {
   "display_name": "Python 3 (ipykernel)",
   "language": "python",
   "name": "python3"
  },
  "language_info": {
   "codemirror_mode": {
    "name": "ipython",
    "version": 3
   },
   "file_extension": ".py",
   "mimetype": "text/x-python",
   "name": "python",
   "nbconvert_exporter": "python",
   "pygments_lexer": "ipython3",
   "version": "3.13.1"
  }
 },
 "nbformat": 4,
 "nbformat_minor": 5
}
