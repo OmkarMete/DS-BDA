{
 "cells": [
  {
   "cell_type": "code",
   "execution_count": null,
   "id": "5a433818-abc4-42f1-a674-86040cb2af76",
   "metadata": {},
   "outputs": [],
   "source": [
    "import pandas as pd\n",
    "import numpy as np\n",
    "import matplotlib.pyplot as plt\n",
    "import seaborn as sns\n",
    "import plotly.express as px\n",
    "import warnings\n",
    "warnings.filterwarnings(\"ignore\")\n",
    "%matplotlib inline"
   ]
  },
  {
   "cell_type": "code",
   "execution_count": null,
   "id": "28567063-f3a2-49bd-af3b-511efc0076a3",
   "metadata": {},
   "outputs": [],
   "source": [
    "df = pd.read_csv(\"train.csv\")"
   ]
  },
  {
   "cell_type": "code",
   "execution_count": null,
   "id": "a8f14f74-c8f7-45c2-8434-057ac399f3e6",
   "metadata": {},
   "outputs": [],
   "source": [
    "df.shape"
   ]
  },
  {
   "cell_type": "code",
   "execution_count": null,
   "id": "0bdbfbda-fbba-4e30-92fd-426e547c7186",
   "metadata": {},
   "outputs": [],
   "source": [
    "df\n"
   ]
  },
  {
   "cell_type": "code",
   "execution_count": null,
   "id": "4c5a4bb7-238c-4f42-9f4c-1733fb55cf4d",
   "metadata": {},
   "outputs": [],
   "source": [
    "df.info()"
   ]
  },
  {
   "cell_type": "code",
   "execution_count": null,
   "id": "9a62cf1d-5f63-4eff-9dfa-20b3cce5237f",
   "metadata": {},
   "outputs": [],
   "source": [
    "df.columns"
   ]
  },
  {
   "cell_type": "code",
   "execution_count": null,
   "id": "898f058e-f07f-4fd0-b4b8-19a0dcc137d4",
   "metadata": {},
   "outputs": [],
   "source": [
    " df.describe()"
   ]
  },
  {
   "cell_type": "code",
   "execution_count": null,
   "id": "e2954ab9-268f-4801-aecb-e8808200d1d5",
   "metadata": {},
   "outputs": [],
   "source": []
  },
  {
   "cell_type": "code",
   "execution_count": null,
   "id": "0775c65b-008d-4288-a0a1-b3e2cfe6d170",
   "metadata": {},
   "outputs": [],
   "source": [
    "df.isna().sum()"
   ]
  },
  {
   "cell_type": "code",
   "execution_count": null,
   "id": "047edc0c-4cb9-45e7-8e08-883171a3d264",
   "metadata": {},
   "outputs": [],
   "source": [
    "df[\"Age\"]\t=\tdf[\"Age\"].fillna(df[\"Age\"].mean())"
   ]
  },
  {
   "cell_type": "code",
   "execution_count": null,
   "id": "14aac538-139a-4f78-b6e5-4e465fc49fac",
   "metadata": {},
   "outputs": [],
   "source": [
    " df.isna().sum()"
   ]
  },
  {
   "cell_type": "code",
   "execution_count": null,
   "id": "3c060b5e-85d9-4c52-a552-c01bec3fab12",
   "metadata": {},
   "outputs": [],
   "source": [
    "df[\"Name\"]"
   ]
  },
  {
   "cell_type": "code",
   "execution_count": null,
   "id": "57925904-490e-4ec5-a04a-81a10c03fe4f",
   "metadata": {},
   "outputs": [],
   "source": [
    "df[\"Sex\"].value_counts()"
   ]
  },
  {
   "cell_type": "code",
   "execution_count": null,
   "id": "c6170f01-56d5-469e-b883-e66cfc860d23",
   "metadata": {},
   "outputs": [],
   "source": [
    "df[\"Ticket\"].value_counts()"
   ]
  },
  {
   "cell_type": "code",
   "execution_count": null,
   "id": "e6a3cc26-a705-4c85-abed-05d126f9f30b",
   "metadata": {},
   "outputs": [],
   "source": [
    " df[\"Cabin\"].value_counts()"
   ]
  },
  {
   "cell_type": "code",
   "execution_count": null,
   "id": "415cb87d-d3e3-46a0-8f26-9d5157cbef43",
   "metadata": {},
   "outputs": [],
   "source": [
    " df[\"Embarked\"].value_counts()"
   ]
  },
  {
   "cell_type": "code",
   "execution_count": null,
   "id": "da49043e-40ba-43b6-a13b-cc6648d64ef1",
   "metadata": {},
   "outputs": [],
   "source": [
    " def\tfun1(value):\n",
    "     if\t(value\t==\t\"male\"):\n",
    "         return\t1\n",
    "     else:\n",
    "         return\t0"
   ]
  },
  {
   "cell_type": "code",
   "execution_count": null,
   "id": "5a641f56-0f83-433b-8643-9fe191b857f2",
   "metadata": {},
   "outputs": [],
   "source": [
    " def\tfun2(value):\n",
    "     if\t(value\t==\t'S'):\n",
    "         return\t0\n",
    "     elif\t(value\t==\t'C'):\n",
    "         return\t1\n",
    "     elif\t(value\t==\t'Q'):\n",
    "         return\t2\n",
    "     else:\n",
    "         return\t0"
   ]
  },
  {
   "cell_type": "code",
   "execution_count": null,
   "id": "6989d9f4-6017-4729-9d96-37d7b79838c6",
   "metadata": {},
   "outputs": [],
   "source": [
    " df[\"Sex\"]\t=\tdf[\"Sex\"].apply(fun1)"
   ]
  },
  {
   "cell_type": "code",
   "execution_count": null,
   "id": "8063d9b9-8e90-49de-97bb-723b17a2e8ab",
   "metadata": {},
   "outputs": [],
   "source": [
    "df[\"Embarked\"]\t=\tdf[\"Embarked\"].apply(fun2)"
   ]
  },
  {
   "cell_type": "code",
   "execution_count": null,
   "id": "4c2114a0-07f5-4ebe-b978-8db7a9f9d952",
   "metadata": {},
   "outputs": [],
   "source": [
    " df.isna().sum()"
   ]
  },
  {
   "cell_type": "code",
   "execution_count": null,
   "id": "0f4dc9e2-2bde-44b1-9703-707eaba5c6b2",
   "metadata": {},
   "outputs": [],
   "source": [
    "df\t=\tdf.drop(\"Cabin\",\taxis=1)"
   ]
  },
  {
   "cell_type": "code",
   "execution_count": null,
   "id": "345395f8-055b-4329-b154-01d88538a73d",
   "metadata": {},
   "outputs": [],
   "source": [
    "df.shape"
   ]
  },
  {
   "cell_type": "code",
   "execution_count": null,
   "id": "f8940f9a-d704-436a-8387-8d4d3282be6b",
   "metadata": {},
   "outputs": [],
   "source": [
    "df.shape"
   ]
  },
  {
   "cell_type": "code",
   "execution_count": null,
   "id": "3ef0e1bf-bfdd-474d-a367-b5c6d028f63d",
   "metadata": {},
   "outputs": [],
   "source": [
    " fig,\taxes\t=\tplt.subplots(1,\t3,\tfigsize=(18,\t6))\n",
    "#\tAge\tDistribution\n",
    " sns.histplot(data=df,\tx='Age',\tkde=True,\tax=axes[0])\n",
    " axes[0].set_title('Age\tDistribution')\n",
    " #\tSibSp\tDistribution\n",
    " sns.histplot(data=df,\tx='SibSp',\tkde=True,\tax=axes[1])\n",
    " axes[1].set_title('SibSp\tDistribution')\n",
    " #\tParch\tDistribution\n",
    " sns.histplot(data=df,\tx='Parch',\tkde=True,\tax=axes[2])\n",
    " axes[2].set_title('Parch\tDistribution')\n",
    " #plt.tight_layout()\n",
    " #plt.show()\n",
    " #\tFare\tDistribution\n",
    " plt.figure(figsize=(10,\t6))\n",
    " sns.histplot(data=df,\tx='Fare',\tkde=True)\n",
    " plt.title('Fare\tDistribution')\n",
    " plt.show()"
   ]
  },
  {
   "cell_type": "code",
   "execution_count": null,
   "id": "1bbb9420-02e3-477a-8ba7-9e9833c17a98",
   "metadata": {},
   "outputs": [],
   "source": [
    "df.info()"
   ]
  },
  {
   "cell_type": "code",
   "execution_count": null,
   "id": "0ece1461-55ee-414a-840b-7b05e9730c51",
   "metadata": {},
   "outputs": [],
   "source": [
    " sns.countplot(df,\tx=\"Survived\")\n",
    " plt.show()"
   ]
  },
  {
   "cell_type": "code",
   "execution_count": null,
   "id": "8f112773-1c4d-4579-acde-be9477d82a90",
   "metadata": {},
   "outputs": [],
   "source": [
    " sns.countplot(df,x=\"Pclass\",\thue=\"Survived\",palette=\"Accent\")\n",
    " plt.show()"
   ]
  },
  {
   "cell_type": "code",
   "execution_count": null,
   "id": "b7aee5c4-bd25-4111-8341-ff7a19c944eb",
   "metadata": {},
   "outputs": [],
   "source": [
    " sns.countplot(df,x=\"Embarked\",hue=\"Survived\")\n",
    " plt.show()"
   ]
  },
  {
   "cell_type": "code",
   "execution_count": null,
   "id": "f3538303-26d2-4401-8345-a9233414fd40",
   "metadata": {},
   "outputs": [],
   "source": [
    "sns.histplot(df[\"Fare\"])\n",
    "plt.show()"
   ]
  },
  {
   "cell_type": "code",
   "execution_count": null,
   "id": "47855dfb-533f-4f3e-bf73-a8ecfa0bb135",
   "metadata": {},
   "outputs": [],
   "source": []
  }
 ],
 "metadata": {
  "kernelspec": {
   "display_name": "Python 3 (ipykernel)",
   "language": "python",
   "name": "python3"
  },
  "language_info": {
   "codemirror_mode": {
    "name": "ipython",
    "version": 3
   },
   "file_extension": ".py",
   "mimetype": "text/x-python",
   "name": "python",
   "nbconvert_exporter": "python",
   "pygments_lexer": "ipython3",
   "version": "3.13.1"
  }
 },
 "nbformat": 4,
 "nbformat_minor": 5
}
