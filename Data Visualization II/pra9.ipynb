{
 "cells": [
  {
   "cell_type": "code",
   "execution_count": null,
   "id": "45b441a4-2502-49a7-8aec-940dce740adc",
   "metadata": {},
   "outputs": [],
   "source": [
    " import\tpandas\tas\tpd\n",
    " import\tnumpy\tas\tnp\n",
    " import\tmatplotlib.pyplot\tas\tplt\n",
    " import\tseaborn\tas\tsns\n",
    " import\tplotly.express\tas\tpx\n",
    " import\twarnings\n",
    " warnings.filterwarnings(\"ignore\")\n",
    " %matplotlib inline"
   ]
  },
  {
   "cell_type": "markdown",
   "id": "f0f737ce-c37d-4f8c-a300-0c836db506d5",
   "metadata": {},
   "source": [
    "# Load\tdata\tand\tbasic\tstats"
   ]
  },
  {
   "cell_type": "code",
   "execution_count": null,
   "id": "7a219d94-5a2e-441d-a11c-b5d159783a9d",
   "metadata": {},
   "outputs": [],
   "source": [
    "df\t=\tpd.read_csv(\"train.csv\")"
   ]
  },
  {
   "cell_type": "code",
   "execution_count": null,
   "id": "0c0a4e70-1abf-4664-b7f3-7c2f5930a7ec",
   "metadata": {},
   "outputs": [],
   "source": [
    "df.shape\n"
   ]
  },
  {
   "cell_type": "code",
   "execution_count": null,
   "id": "329de5ab-af28-4f5d-8f3d-a453051eb6eb",
   "metadata": {},
   "outputs": [],
   "source": [
    "df"
   ]
  },
  {
   "cell_type": "code",
   "execution_count": null,
   "id": "b5977196-7d6d-4e97-9227-dcca67eb1741",
   "metadata": {},
   "outputs": [],
   "source": [
    "df.info()"
   ]
  },
  {
   "cell_type": "code",
   "execution_count": null,
   "id": "1501c6c9-1ef5-4620-9660-b850cd099a47",
   "metadata": {},
   "outputs": [],
   "source": [
    "df.describe()"
   ]
  },
  {
   "cell_type": "code",
   "execution_count": null,
   "id": "f1979b43-202d-4629-b4a4-455cf1bba92c",
   "metadata": {},
   "outputs": [],
   "source": [
    "df.isna().sum()"
   ]
  },
  {
   "cell_type": "code",
   "execution_count": null,
   "id": "9d84b949-1454-43e2-9326-bea725005b65",
   "metadata": {},
   "outputs": [],
   "source": [
    "df[\"Age\"]\t=\tdf[\"Age\"].fillna(df[\"Age\"].mean())"
   ]
  },
  {
   "cell_type": "code",
   "execution_count": null,
   "id": "c4188fc4-30bd-4fa6-bcec-d2862cb80731",
   "metadata": {},
   "outputs": [],
   "source": [
    "df.isna().sum()\n"
   ]
  },
  {
   "cell_type": "markdown",
   "id": "01df7a1f-c592-4583-9b9b-2293428fc056",
   "metadata": {},
   "source": [
    "# Visualization"
   ]
  },
  {
   "cell_type": "code",
   "execution_count": null,
   "id": "4e9bcd20-e753-47c4-afca-3e07bac73e6d",
   "metadata": {},
   "outputs": [],
   "source": [
    " def fun1(value):\n",
    "\tif (value\t==\t\"male\"):\n",
    "\t\treturn\t1\n",
    "\telse:\n",
    "\t\treturn\t0"
   ]
  },
  {
   "cell_type": "code",
   "execution_count": null,
   "id": "eff7ff30-0bfe-4be4-92aa-f6161b9dc040",
   "metadata": {},
   "outputs": [],
   "source": [
    "def\tfun2(value):\n",
    "\t\t\t\tif\t(value\t==\t'S'):\n",
    "\t\t\t\t\t\t\t\treturn\t0\n",
    "\t\t\t\telif\t(value\t==\t'C'):\n",
    "\t\t\t\t\t\t\t\treturn\t1\n",
    "\t\t\t\telif\t(value\t==\t'Q'):\n",
    "\t\t\t\t\t\t\t\treturn\t2\n",
    "\t\t\t\telse:\n",
    "\t\t\t\t\t\t\t\treturn\t0"
   ]
  },
  {
   "cell_type": "code",
   "execution_count": null,
   "id": "dbd3c213-bf59-4430-a25c-69bda9f0e0c1",
   "metadata": {},
   "outputs": [],
   "source": [
    " df[\"Sex\"]\t=\tdf[\"Sex\"].apply(fun1)"
   ]
  },
  {
   "cell_type": "code",
   "execution_count": null,
   "id": "e1a7d51e-d5b0-4b9c-b252-f3d043194ebe",
   "metadata": {},
   "outputs": [],
   "source": [
    " df[\"Embarked\"]\t=\tdf[\"Embarked\"].apply(fun2)"
   ]
  },
  {
   "cell_type": "code",
   "execution_count": null,
   "id": "81d7c3a2-a2d6-4b55-bdc9-b28e8f7682b9",
   "metadata": {},
   "outputs": [],
   "source": [
    "df\t=\tdf.drop(\"Cabin\",\taxis=1)"
   ]
  },
  {
   "cell_type": "code",
   "execution_count": null,
   "id": "c1cf6c19-d3fe-460b-8862-fc01044c5b07",
   "metadata": {},
   "outputs": [],
   "source": [
    "df.shape"
   ]
  },
  {
   "cell_type": "code",
   "execution_count": null,
   "id": "fca9146d-2f86-4867-bb25-d58b7f9885d7",
   "metadata": {},
   "outputs": [],
   "source": [
    " px.box(df[\"Sex\"],\tdf[\"Age\"],\tcolor=df[\"Survived\"])"
   ]
  },
  {
   "cell_type": "code",
   "execution_count": null,
   "id": "de70f457-5f99-45cf-b9fe-05ab267878d7",
   "metadata": {},
   "outputs": [],
   "source": [
    "plt.figure(figsize=(10,7))\n",
    "box\t= sns.boxplot(df,x=\"Sex\",\ty=\"Age\",\thue=\"Survived\")\n",
    "plt.show()"
   ]
  },
  {
   "cell_type": "code",
   "execution_count": null,
   "id": "b26f253f-ca07-4f25-815f-8dfd2a51f134",
   "metadata": {},
   "outputs": [],
   "source": []
  }
 ],
 "metadata": {
  "kernelspec": {
   "display_name": "Python 3 (ipykernel)",
   "language": "python",
   "name": "python3"
  },
  "language_info": {
   "codemirror_mode": {
    "name": "ipython",
    "version": 3
   },
   "file_extension": ".py",
   "mimetype": "text/x-python",
   "name": "python",
   "nbconvert_exporter": "python",
   "pygments_lexer": "ipython3",
   "version": "3.13.1"
  }
 },
 "nbformat": 4,
 "nbformat_minor": 5
}
